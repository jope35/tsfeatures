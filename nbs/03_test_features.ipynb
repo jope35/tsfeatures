{
 "cells": [
  {
   "cell_type": "code",
   "execution_count": null,
   "metadata": {},
   "outputs": [],
   "source": [
    "from tsfeatures.tsfeatures import *\n",
    "from tsfeatures.features import *\n",
    "from functools import partial"
   ]
  },
  {
   "cell_type": "code",
   "execution_count": null,
   "metadata": {},
   "outputs": [],
   "source": [
    "from tsfeatures.m4_data import prepare_m4_data\n",
    "from tsfeatures.utils import FREQS\n"
   ]
  },
  {
   "cell_type": "code",
   "execution_count": null,
   "metadata": {},
   "outputs": [],
   "source": [
    "\n",
    "def test_pipeline():\n",
    "    def calculate_features_m4(dataset_name, directory, num_obs=1000000):\n",
    "        _, y_train_df, _, _ = prepare_m4_data(dataset_name=dataset_name,\n",
    "                                              directory = directory,\n",
    "                                              num_obs=num_obs)\n",
    "\n",
    "        freq = FREQS[dataset_name[0]]\n",
    "        py_feats = tsfeatures(y_train_df, freq=freq).set_index('unique_id')\n",
    "\n",
    "    calculate_features_m4('Hourly', 'data', 100)\n",
    "    calculate_features_m4('Daily', 'data', 100)\n"
   ]
  },
  {
   "cell_type": "code",
   "execution_count": null,
   "metadata": {},
   "outputs": [
    {
     "name": "stdout",
     "output_type": "stream",
     "text": [
      "\n",
      "\n"
     ]
    },
    {
     "ename": "NameError",
     "evalue": "name 'partial' is not defined",
     "output_type": "error",
     "traceback": [
      "\u001b[0;31m---------------------------------------------------------------------------\u001b[0m",
      "\u001b[0;31mNameError\u001b[0m                                 Traceback (most recent call last)",
      "Cell \u001b[0;32mIn[4], line 1\u001b[0m\n\u001b[0;32m----> 1\u001b[0m test_pipeline()\n",
      "Cell \u001b[0;32mIn[3], line 10\u001b[0m, in \u001b[0;36mtest_pipeline\u001b[0;34m()\u001b[0m\n\u001b[1;32m      7\u001b[0m     freq \u001b[39m=\u001b[39m FREQS[dataset_name[\u001b[39m0\u001b[39m]]\n\u001b[1;32m      8\u001b[0m     py_feats \u001b[39m=\u001b[39m tsfeatures(y_train_df, freq\u001b[39m=\u001b[39mfreq)\u001b[39m.\u001b[39mset_index(\u001b[39m'\u001b[39m\u001b[39munique_id\u001b[39m\u001b[39m'\u001b[39m)\n\u001b[0;32m---> 10\u001b[0m calculate_features_m4(\u001b[39m'\u001b[39;49m\u001b[39mHourly\u001b[39;49m\u001b[39m'\u001b[39;49m, \u001b[39m'\u001b[39;49m\u001b[39mdata\u001b[39;49m\u001b[39m'\u001b[39;49m, \u001b[39m100\u001b[39;49m)\n\u001b[1;32m     11\u001b[0m calculate_features_m4(\u001b[39m'\u001b[39m\u001b[39mDaily\u001b[39m\u001b[39m'\u001b[39m, \u001b[39m'\u001b[39m\u001b[39mdata\u001b[39m\u001b[39m'\u001b[39m, \u001b[39m100\u001b[39m)\n",
      "Cell \u001b[0;32mIn[3], line 8\u001b[0m, in \u001b[0;36mtest_pipeline.<locals>.calculate_features_m4\u001b[0;34m(dataset_name, directory, num_obs)\u001b[0m\n\u001b[1;32m      3\u001b[0m _, y_train_df, _, _ \u001b[39m=\u001b[39m prepare_m4_data(dataset_name\u001b[39m=\u001b[39mdataset_name,\n\u001b[1;32m      4\u001b[0m                                       directory \u001b[39m=\u001b[39m directory,\n\u001b[1;32m      5\u001b[0m                                       num_obs\u001b[39m=\u001b[39mnum_obs)\n\u001b[1;32m      7\u001b[0m freq \u001b[39m=\u001b[39m FREQS[dataset_name[\u001b[39m0\u001b[39m]]\n\u001b[0;32m----> 8\u001b[0m py_feats \u001b[39m=\u001b[39m tsfeatures(y_train_df, freq\u001b[39m=\u001b[39;49mfreq)\u001b[39m.\u001b[39mset_index(\u001b[39m'\u001b[39m\u001b[39munique_id\u001b[39m\u001b[39m'\u001b[39m)\n",
      "File \u001b[0;32m~/tsfeatures/tsfeatures/tsfeatures.py:139\u001b[0m, in \u001b[0;36mtsfeatures\u001b[0;34m(ts, freq, features, dict_freqs, scale, threads)\u001b[0m\n\u001b[1;32m     87\u001b[0m \u001b[39mdef\u001b[39;00m \u001b[39mtsfeatures\u001b[39m(\n\u001b[1;32m     88\u001b[0m     ts: pd\u001b[39m.\u001b[39mDataFrame,\n\u001b[1;32m     89\u001b[0m     freq: Optional[\u001b[39mint\u001b[39m] \u001b[39m=\u001b[39m \u001b[39mNone\u001b[39;00m,\n\u001b[0;32m   (...)\u001b[0m\n\u001b[1;32m    111\u001b[0m     threads: Optional[\u001b[39mint\u001b[39m] \u001b[39m=\u001b[39m \u001b[39mNone\u001b[39;00m,\n\u001b[1;32m    112\u001b[0m ) \u001b[39m-\u001b[39m\u001b[39m>\u001b[39m pd\u001b[39m.\u001b[39mDataFrame:\n\u001b[1;32m    113\u001b[0m \u001b[39m    \u001b[39m\u001b[39m\"\"\"Calculates features for time series.\u001b[39;00m\n\u001b[1;32m    114\u001b[0m \n\u001b[1;32m    115\u001b[0m \u001b[39m    Parameters\u001b[39;00m\n\u001b[0;32m   (...)\u001b[0m\n\u001b[1;32m    137\u001b[0m \u001b[39m        a time series.\u001b[39;00m\n\u001b[1;32m    138\u001b[0m \u001b[39m    \"\"\"\u001b[39;00m\n\u001b[0;32m--> 139\u001b[0m     partial_get_feats \u001b[39m=\u001b[39m partial(\n\u001b[1;32m    140\u001b[0m         _get_feats,\n\u001b[1;32m    141\u001b[0m         freq\u001b[39m=\u001b[39mfreq,\n\u001b[1;32m    142\u001b[0m         scale\u001b[39m=\u001b[39mscale,\n\u001b[1;32m    143\u001b[0m         features\u001b[39m=\u001b[39mfeatures,\n\u001b[1;32m    144\u001b[0m         dict_freqs\u001b[39m=\u001b[39mdict_freqs,\n\u001b[1;32m    145\u001b[0m     )\n\u001b[1;32m    147\u001b[0m     \u001b[39mwith\u001b[39;00m Pool(threads) \u001b[39mas\u001b[39;00m pool:\n\u001b[1;32m    148\u001b[0m         ts_features \u001b[39m=\u001b[39m pool\u001b[39m.\u001b[39mstarmap(partial_get_feats, ts\u001b[39m.\u001b[39mgroupby(\u001b[39m\"\u001b[39m\u001b[39munique_id\u001b[39m\u001b[39m\"\u001b[39m))\n",
      "\u001b[0;31mNameError\u001b[0m: name 'partial' is not defined"
     ]
    }
   ],
   "source": [
    "test_pipeline()"
   ]
  },
  {
   "cell_type": "code",
   "execution_count": null,
   "metadata": {},
   "outputs": [],
   "source": []
  }
 ],
 "metadata": {
  "kernelspec": {
   "display_name": "python3",
   "language": "python",
   "name": "python3"
  }
 },
 "nbformat": 4,
 "nbformat_minor": 2
}
