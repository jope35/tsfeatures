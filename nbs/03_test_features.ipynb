{
 "cells": [
  {
   "cell_type": "code",
   "execution_count": null,
   "metadata": {},
   "outputs": [],
   "source": [
    "from tsfeatures.tsfeatures import *\n",
    "from tsfeatures.features import *\n",
    "from functools import partial"
   ]
  },
  {
   "cell_type": "code",
   "execution_count": null,
   "metadata": {},
   "outputs": [],
   "source": [
    "from tsfeatures.m4_data import prepare_m4_data\n",
    "from tsfeatures.utils import FREQS\n"
   ]
  },
  {
   "cell_type": "code",
   "execution_count": null,
   "metadata": {},
   "outputs": [],
   "source": [
    "\n",
    "def test_pipeline():\n",
    "    def calculate_features_m4(dataset_name, directory, num_obs=1000000):\n",
    "        _, y_train_df, _, _ = prepare_m4_data(dataset_name=dataset_name,\n",
    "                                              directory = directory,\n",
    "                                              num_obs=num_obs)\n",
    "\n",
    "        freq = FREQS[dataset_name[0]]\n",
    "        py_feats = tsfeatures(y_train_df, freq=freq).set_index('unique_id')\n",
    "\n",
    "    calculate_features_m4('Hourly', 'data', 100)\n",
    "    calculate_features_m4('Daily', 'data', 100)\n"
   ]
  },
  {
   "cell_type": "code",
   "execution_count": null,
   "metadata": {},
   "outputs": [
    {
     "name": "stdout",
     "output_type": "stream",
     "text": [
      "\n",
      "\n"
     ]
    }
   ],
   "source": [
    "_, y_train_df, _, _ = prepare_m4_data(dataset_name='Hourly',\n",
    "                                      directory ='data',\n",
    "                                      num_obs=100)"
   ]
  },
  {
   "cell_type": "code",
   "execution_count": null,
   "metadata": {},
   "outputs": [],
   "source": [
    "freq='H'"
   ]
  },
  {
   "cell_type": "code",
   "execution_count": null,
   "metadata": {},
   "outputs": [
    {
     "data": {
      "text/html": [
       "<div>\n",
       "<style scoped>\n",
       "    .dataframe tbody tr th:only-of-type {\n",
       "        vertical-align: middle;\n",
       "    }\n",
       "\n",
       "    .dataframe tbody tr th {\n",
       "        vertical-align: top;\n",
       "    }\n",
       "\n",
       "    .dataframe thead th {\n",
       "        text-align: right;\n",
       "    }\n",
       "</style>\n",
       "<table border=\"1\" class=\"dataframe\">\n",
       "  <thead>\n",
       "    <tr style=\"text-align: right;\">\n",
       "      <th></th>\n",
       "      <th>unique_id</th>\n",
       "      <th>ds</th>\n",
       "      <th>y</th>\n",
       "    </tr>\n",
       "  </thead>\n",
       "  <tbody>\n",
       "    <tr>\n",
       "      <th>0</th>\n",
       "      <td>H1</td>\n",
       "      <td>1970-01-01 00:00:00</td>\n",
       "      <td>605.0</td>\n",
       "    </tr>\n",
       "    <tr>\n",
       "      <th>1</th>\n",
       "      <td>H1</td>\n",
       "      <td>1970-01-01 01:00:00</td>\n",
       "      <td>586.0</td>\n",
       "    </tr>\n",
       "    <tr>\n",
       "      <th>2</th>\n",
       "      <td>H1</td>\n",
       "      <td>1970-01-01 02:00:00</td>\n",
       "      <td>586.0</td>\n",
       "    </tr>\n",
       "    <tr>\n",
       "      <th>3</th>\n",
       "      <td>H1</td>\n",
       "      <td>1970-01-01 03:00:00</td>\n",
       "      <td>559.0</td>\n",
       "    </tr>\n",
       "    <tr>\n",
       "      <th>4</th>\n",
       "      <td>H1</td>\n",
       "      <td>1970-01-01 04:00:00</td>\n",
       "      <td>511.0</td>\n",
       "    </tr>\n",
       "    <tr>\n",
       "      <th>...</th>\n",
       "      <td>...</td>\n",
       "      <td>...</td>\n",
       "      <td>...</td>\n",
       "    </tr>\n",
       "    <tr>\n",
       "      <th>69995</th>\n",
       "      <td>H99</td>\n",
       "      <td>1970-01-29 23:00:00</td>\n",
       "      <td>27926.0</td>\n",
       "    </tr>\n",
       "    <tr>\n",
       "      <th>69996</th>\n",
       "      <td>H99</td>\n",
       "      <td>1970-01-30 00:00:00</td>\n",
       "      <td>26744.0</td>\n",
       "    </tr>\n",
       "    <tr>\n",
       "      <th>69997</th>\n",
       "      <td>H99</td>\n",
       "      <td>1970-01-30 01:00:00</td>\n",
       "      <td>25829.0</td>\n",
       "    </tr>\n",
       "    <tr>\n",
       "      <th>69998</th>\n",
       "      <td>H99</td>\n",
       "      <td>1970-01-30 02:00:00</td>\n",
       "      <td>25421.0</td>\n",
       "    </tr>\n",
       "    <tr>\n",
       "      <th>69999</th>\n",
       "      <td>H99</td>\n",
       "      <td>1970-01-30 03:00:00</td>\n",
       "      <td>23252.0</td>\n",
       "    </tr>\n",
       "  </tbody>\n",
       "</table>\n",
       "<p>70000 rows × 3 columns</p>\n",
       "</div>"
      ],
      "text/plain": [
       "      unique_id                  ds        y\n",
       "0            H1 1970-01-01 00:00:00    605.0\n",
       "1            H1 1970-01-01 01:00:00    586.0\n",
       "2            H1 1970-01-01 02:00:00    586.0\n",
       "3            H1 1970-01-01 03:00:00    559.0\n",
       "4            H1 1970-01-01 04:00:00    511.0\n",
       "...         ...                 ...      ...\n",
       "69995       H99 1970-01-29 23:00:00  27926.0\n",
       "69996       H99 1970-01-30 00:00:00  26744.0\n",
       "69997       H99 1970-01-30 01:00:00  25829.0\n",
       "69998       H99 1970-01-30 02:00:00  25421.0\n",
       "69999       H99 1970-01-30 03:00:00  23252.0\n",
       "\n",
       "[70000 rows x 3 columns]"
      ]
     },
     "execution_count": null,
     "metadata": {},
     "output_type": "execute_result"
    }
   ],
   "source": [
    "y_train_df"
   ]
  },
  {
   "cell_type": "code",
   "execution_count": null,
   "metadata": {},
   "outputs": [],
   "source": []
  },
  {
   "cell_type": "code",
   "execution_count": null,
   "metadata": {},
   "outputs": [],
   "source": []
  },
  {
   "cell_type": "code",
   "execution_count": null,
   "metadata": {},
   "outputs": [],
   "source": []
  },
  {
   "cell_type": "code",
   "execution_count": null,
   "metadata": {},
   "outputs": [],
   "source": []
  }
 ],
 "metadata": {
  "kernelspec": {
   "display_name": "python3",
   "language": "python",
   "name": "python3"
  }
 },
 "nbformat": 4,
 "nbformat_minor": 2
}
