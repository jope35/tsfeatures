{
 "cells": [
  {
   "cell_type": "code",
   "execution_count": null,
   "metadata": {},
   "outputs": [
    {
     "name": "stdout",
     "output_type": "stream",
     "text": [
      "The autoreload extension is already loaded. To reload it, use:\n",
      "  %reload_ext autoreload\n"
     ]
    }
   ],
   "source": [
    "%load_ext autoreload\n",
    "%autoreload 2"
   ]
  },
  {
   "cell_type": "code",
   "execution_count": null,
   "metadata": {},
   "outputs": [],
   "source": [
    "from tsfeatures.tsfeatures import *\n",
    "from tsfeatures.tsfeatures import _get_feats\n",
    "from tsfeatures.features import *\n",
    "from functools import partial"
   ]
  },
  {
   "cell_type": "code",
   "execution_count": null,
   "metadata": {},
   "outputs": [],
   "source": [
    "from tsfeatures.m4_data import prepare_m4_data\n",
    "from tsfeatures.utils import FREQS\n"
   ]
  },
  {
   "cell_type": "code",
   "execution_count": null,
   "metadata": {},
   "outputs": [],
   "source": [
    "def test_pipeline():\n",
    "    def calculate_features_m4(dataset_name, directory, num_obs=1000000):\n",
    "        _, y_train_df, _, _ = prepare_m4_data(\n",
    "            dataset_name=dataset_name, directory=directory, num_obs=num_obs\n",
    "        )\n",
    "\n",
    "        freq = FREQS[dataset_name[0]]\n",
    "        \n",
    "        py_feats = tsfeatures(\n",
    "            y_train_df,freq=freq, features=[count_entropy]\n",
    "        ).set_index(\"unique_id\")\n",
    "\n",
    "    calculate_features_m4(\"Hourly\", \"data\", 100)\n",
    "    calculate_features_m4(\"Daily\", \"data\", 100)"
   ]
  },
  {
   "cell_type": "code",
   "execution_count": null,
   "metadata": {},
   "outputs": [
    {
     "name": "stdout",
     "output_type": "stream",
     "text": [
      "\n",
      "\n",
      "\n",
      "\n"
     ]
    }
   ],
   "source": [
    "test_pipeline()"
   ]
  },
  {
   "cell_type": "code",
   "execution_count": null,
   "metadata": {},
   "outputs": [],
   "source": []
  }
 ],
 "metadata": {
  "kernelspec": {
   "display_name": "python3",
   "language": "python",
   "name": "python3"
  }
 },
 "nbformat": 4,
 "nbformat_minor": 2
}
