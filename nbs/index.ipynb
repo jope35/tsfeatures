{
 "cells": [
  {
   "cell_type": "code",
   "execution_count": null,
   "metadata": {},
   "outputs": [],
   "source": [
    "#| hide\n",
    "from tsfeatures import *"
   ]
  },
  {
   "cell_type": "markdown",
   "metadata": {},
   "source": [
    "# tsfeatures\n",
    "\n",
    "> porting tsfeature to nbdev"
   ]
  },
  {
   "cell_type": "markdown",
   "metadata": {},
   "source": [
    "This file will become your README and also the index of your documentation."
   ]
  },
  {
   "cell_type": "markdown",
   "metadata": {},
   "source": [
    "## Install"
   ]
  },
  {
   "cell_type": "markdown",
   "metadata": {},
   "source": [
    "```sh\n",
    "pip install tsfeatures\n",
    "```"
   ]
  },
  {
   "cell_type": "markdown",
   "metadata": {},
   "source": [
    "## How to use"
   ]
  },
  {
   "cell_type": "markdown",
   "metadata": {},
   "source": [
    "Fill me in please! Don't forget code examples:"
   ]
  },
  {
   "cell_type": "code",
   "execution_count": null,
   "metadata": {},
   "outputs": [
    {
     "data": {
      "text/plain": [
       "2"
      ]
     },
     "execution_count": null,
     "metadata": {},
     "output_type": "execute_result"
    }
   ],
   "source": [
    "1+1"
   ]
  },
  {
   "cell_type": "markdown",
   "metadata": {},
   "source": [
    "[![Build](https://github.com/FedericoGarza/tsfeatures/workflows/Python%20package/badge.svg)](https://github.com/FedericoGarza/tsfeatures/tree/master)\n",
    "[![PyPI version fury.io](https://badge.fury.io/py/tsfeatures.svg)](https://pypi.python.org/pypi/tsfeatures/)\n",
    "[![Downloads](https://pepy.tech/badge/tsfeatures)](https://pepy.tech/project/tsfeatures)\n",
    "[![Python 3.6+](https://img.shields.io/badge/python-3.7+-blue.svg)](https://www.python.org/downloads/release/python-370+/)\n",
    "[![License: MIT](https://img.shields.io/badge/License-MIT-green.svg)](https://github.com/FedericoGarza/tsfeatures/blob/master/LICENSE)\n",
    "\n",
    "# tsfeatures\n",
    "\n",
    "Calculates various features from time series data. Python implementation of the R package _[tsfeatures](https://github.com/robjhyndman/tsfeatures)_.\n",
    "\n",
    "# Installation\n",
    "\n",
    "You can install the *released* version of `tsfeatures` from the [Python package index](pypi.org) with:\n",
    "\n",
    "``` python\n",
    "pip install tsfeatures\n",
    "```\n",
    "\n",
    "# Usage\n",
    "\n",
    "The `tsfeatures` main function calculates by default the features used by Montero-Manso, Talagala, Hyndman and Athanasopoulos in [their implementation of the FFORMA model](https://htmlpreview.github.io/?https://github.com/robjhyndman/M4metalearning/blob/master/docs/M4_methodology.html#features).\n",
    "\n",
    "```python\n",
    "from tsfeatures import tsfeatures\n",
    "```\n",
    "\n",
    "This function receives a panel pandas df with columns `unique_id`, `ds`, `y` and optionally the frequency of the data.\n",
    "\n",
    "<img src=https://raw.githubusercontent.com/FedericoGarza/tsfeatures/master/.github/images/y_train.png width=\"152\">\n",
    "\n",
    "```python\n",
    "tsfeatures(panel, freq=7)\n",
    "```\n",
    "\n",
    "By default (`freq=None`) the function will try to infer the frequency of each time series (using `infer_freq` from `pandas` on the `ds` column) and assign a seasonal period according to the built-in dictionary `FREQS`:\n",
    "\n",
    "```python\n",
    "FREQS = {'H': 24, 'D': 1,\n",
    "         'M': 12, 'Q': 4,\n",
    "         'W':1, 'Y': 1}\n",
    "```\n",
    "\n",
    "You can use your own dictionary using the `dict_freqs` argument:\n",
    "\n",
    "```python\n",
    "tsfeatures(panel, dict_freqs={'D': 7, 'W': 52})\n",
    "```\n",
    "\n",
    "## List of available features\n",
    "\n",
    "| Features |||\n",
    "|:--------|:------|:-------------|\n",
    "|acf_features|heterogeneity|series_length|\n",
    "|arch_stat|holt_parameters|sparsity|\n",
    "|count_entropy|hurst|stability|\n",
    "|crossing_points|hw_parameters|stl_features|\n",
    "|entropy|intervals|unitroot_kpss|\n",
    "|flat_spots|lumpiness|unitroot_pp|\n",
    "|frequency|nonlinearity||\n",
    "|guerrero|pacf_features||\n",
    "\n",
    "See the docs for a description of the features. To use a particular feature included in the package you need to import it:\n",
    "\n",
    "```python\n",
    "from tsfeatures import acf_features\n",
    "\n",
    "tsfeatures(panel, freq=7, features=[acf_features])\n",
    "```\n",
    "\n",
    "You can also define your own function and use it together with the included features:\n",
    "\n",
    "```python\n",
    "def number_zeros(x, freq):\n",
    "\n",
    "    number = (x == 0).sum()\n",
    "    return {'number_zeros': number}\n",
    "\n",
    "tsfeatures(panel, freq=7, features=[acf_features, number_zeros])\n",
    "```\n",
    "\n",
    "`tsfeatures` can handle functions that receives a numpy array `x` and a frequency `freq` (this parameter is needed even if you don't use it) and returns a dictionary with the feature name as a key and its value.\n",
    "\n",
    " \n",
    "\n",
    "# Authors\n",
    "\n",
    "* **Federico Garza** - [FedericoGarza](https://github.com/FedericoGarza)\n",
    "* **Kin Gutierrez** - [kdgutier](https://github.com/kdgutier)\n",
    "* **Cristian Challu** - [cristianchallu](https://github.com/cristianchallu)\n",
    "* **Jose Moralez** - [jose-moralez](https://github.com/jose-moralez)\n",
    "* **Ricardo Olivares** - [rolivaresar](https://github.com/rolivaresar)\n",
    "* **Max Mergenthaler** - [mergenthaler](https://github.com/mergenthaler)\n"
   ]
  }
 ],
 "metadata": {
  "kernelspec": {
   "display_name": "nbdev",
   "language": "python",
   "name": "python3"
  }
 },
 "nbformat": 4,
 "nbformat_minor": 4
}
